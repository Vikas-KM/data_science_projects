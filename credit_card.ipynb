{
 "metadata": {
  "language_info": {
   "codemirror_mode": {
    "name": "ipython",
    "version": 3
   },
   "file_extension": ".py",
   "mimetype": "text/x-python",
   "name": "python",
   "nbconvert_exporter": "python",
   "pygments_lexer": "ipython3",
   "version": "3.6.12-final"
  },
  "orig_nbformat": 2,
  "kernelspec": {
   "name": "python3",
   "display_name": "Python 3",
   "language": "python"
  }
 },
 "nbformat": 4,
 "nbformat_minor": 2,
 "cells": [
  {
   "cell_type": "code",
   "execution_count": 1,
   "metadata": {},
   "outputs": [],
   "source": [
    "import numpy as np \n",
    "import pandas as pd \n",
    "import matplotlib.pyplot as plt \n",
    "import seaborn as sns \n",
    "\n",
    "%matplotlib inline"
   ]
  },
  {
   "cell_type": "code",
   "execution_count": 3,
   "metadata": {},
   "outputs": [],
   "source": [
    "df = pd.read_excel('./data/default_of_credit_card_clients__courseware_version_1_21_19.xls')"
   ]
  },
  {
   "cell_type": "code",
   "execution_count": 4,
   "metadata": {},
   "outputs": [
    {
     "output_type": "execute_result",
     "data": {
      "text/plain": [
       "              ID  LIMIT_BAL  SEX  EDUCATION  MARRIAGE  AGE PAY_1  PAY_2  \\\n",
       "0  798fc410-45c1      20000    2          2         1   24     2      2   \n",
       "1  8a8c8f3b-8eb4     120000    2          2         2   26    -1      2   \n",
       "2  85698822-43f5      90000    2          2         2   34     0      0   \n",
       "3  0737c11b-be42      50000    2          2         1   37     0      0   \n",
       "4  3b7f77cc-dbc0      50000    1          2         1   57    -1      0   \n",
       "\n",
       "   PAY_3  PAY_4  ...  BILL_AMT4  BILL_AMT5  BILL_AMT6  PAY_AMT1  PAY_AMT2  \\\n",
       "0     -1     -1  ...          0          0          0         0       689   \n",
       "1      0      0  ...       3272       3455       3261         0      1000   \n",
       "2      0      0  ...      14331      14948      15549      1518      1500   \n",
       "3      0      0  ...      28314      28959      29547      2000      2019   \n",
       "4     -1      0  ...      20940      19146      19131      2000     36681   \n",
       "\n",
       "   PAY_AMT3  PAY_AMT4  PAY_AMT5  PAY_AMT6  default payment next month  \n",
       "0         0         0         0         0                           1  \n",
       "1      1000      1000         0      2000                           1  \n",
       "2      1000      1000      1000      5000                           0  \n",
       "3      1200      1100      1069      1000                           0  \n",
       "4     10000      9000       689       679                           0  \n",
       "\n",
       "[5 rows x 25 columns]"
      ],
      "text/html": "<div>\n<style scoped>\n    .dataframe tbody tr th:only-of-type {\n        vertical-align: middle;\n    }\n\n    .dataframe tbody tr th {\n        vertical-align: top;\n    }\n\n    .dataframe thead th {\n        text-align: right;\n    }\n</style>\n<table border=\"1\" class=\"dataframe\">\n  <thead>\n    <tr style=\"text-align: right;\">\n      <th></th>\n      <th>ID</th>\n      <th>LIMIT_BAL</th>\n      <th>SEX</th>\n      <th>EDUCATION</th>\n      <th>MARRIAGE</th>\n      <th>AGE</th>\n      <th>PAY_1</th>\n      <th>PAY_2</th>\n      <th>PAY_3</th>\n      <th>PAY_4</th>\n      <th>...</th>\n      <th>BILL_AMT4</th>\n      <th>BILL_AMT5</th>\n      <th>BILL_AMT6</th>\n      <th>PAY_AMT1</th>\n      <th>PAY_AMT2</th>\n      <th>PAY_AMT3</th>\n      <th>PAY_AMT4</th>\n      <th>PAY_AMT5</th>\n      <th>PAY_AMT6</th>\n      <th>default payment next month</th>\n    </tr>\n  </thead>\n  <tbody>\n    <tr>\n      <th>0</th>\n      <td>798fc410-45c1</td>\n      <td>20000</td>\n      <td>2</td>\n      <td>2</td>\n      <td>1</td>\n      <td>24</td>\n      <td>2</td>\n      <td>2</td>\n      <td>-1</td>\n      <td>-1</td>\n      <td>...</td>\n      <td>0</td>\n      <td>0</td>\n      <td>0</td>\n      <td>0</td>\n      <td>689</td>\n      <td>0</td>\n      <td>0</td>\n      <td>0</td>\n      <td>0</td>\n      <td>1</td>\n    </tr>\n    <tr>\n      <th>1</th>\n      <td>8a8c8f3b-8eb4</td>\n      <td>120000</td>\n      <td>2</td>\n      <td>2</td>\n      <td>2</td>\n      <td>26</td>\n      <td>-1</td>\n      <td>2</td>\n      <td>0</td>\n      <td>0</td>\n      <td>...</td>\n      <td>3272</td>\n      <td>3455</td>\n      <td>3261</td>\n      <td>0</td>\n      <td>1000</td>\n      <td>1000</td>\n      <td>1000</td>\n      <td>0</td>\n      <td>2000</td>\n      <td>1</td>\n    </tr>\n    <tr>\n      <th>2</th>\n      <td>85698822-43f5</td>\n      <td>90000</td>\n      <td>2</td>\n      <td>2</td>\n      <td>2</td>\n      <td>34</td>\n      <td>0</td>\n      <td>0</td>\n      <td>0</td>\n      <td>0</td>\n      <td>...</td>\n      <td>14331</td>\n      <td>14948</td>\n      <td>15549</td>\n      <td>1518</td>\n      <td>1500</td>\n      <td>1000</td>\n      <td>1000</td>\n      <td>1000</td>\n      <td>5000</td>\n      <td>0</td>\n    </tr>\n    <tr>\n      <th>3</th>\n      <td>0737c11b-be42</td>\n      <td>50000</td>\n      <td>2</td>\n      <td>2</td>\n      <td>1</td>\n      <td>37</td>\n      <td>0</td>\n      <td>0</td>\n      <td>0</td>\n      <td>0</td>\n      <td>...</td>\n      <td>28314</td>\n      <td>28959</td>\n      <td>29547</td>\n      <td>2000</td>\n      <td>2019</td>\n      <td>1200</td>\n      <td>1100</td>\n      <td>1069</td>\n      <td>1000</td>\n      <td>0</td>\n    </tr>\n    <tr>\n      <th>4</th>\n      <td>3b7f77cc-dbc0</td>\n      <td>50000</td>\n      <td>1</td>\n      <td>2</td>\n      <td>1</td>\n      <td>57</td>\n      <td>-1</td>\n      <td>0</td>\n      <td>-1</td>\n      <td>0</td>\n      <td>...</td>\n      <td>20940</td>\n      <td>19146</td>\n      <td>19131</td>\n      <td>2000</td>\n      <td>36681</td>\n      <td>10000</td>\n      <td>9000</td>\n      <td>689</td>\n      <td>679</td>\n      <td>0</td>\n    </tr>\n  </tbody>\n</table>\n<p>5 rows × 25 columns</p>\n</div>"
     },
     "metadata": {},
     "execution_count": 4
    }
   ],
   "source": [
    "df.head()"
   ]
  },
  {
   "cell_type": "code",
   "execution_count": 5,
   "metadata": {},
   "outputs": [
    {
     "output_type": "execute_result",
     "data": {
      "text/plain": [
       "(30000, 25)"
      ]
     },
     "metadata": {},
     "execution_count": 5
    }
   ],
   "source": [
    "df.shape"
   ]
  },
  {
   "cell_type": "code",
   "execution_count": 6,
   "metadata": {},
   "outputs": [
    {
     "output_type": "execute_result",
     "data": {
      "text/plain": [
       "Index(['ID', 'LIMIT_BAL', 'SEX', 'EDUCATION', 'MARRIAGE', 'AGE', 'PAY_1',\n",
       "       'PAY_2', 'PAY_3', 'PAY_4', 'PAY_5', 'PAY_6', 'BILL_AMT1', 'BILL_AMT2',\n",
       "       'BILL_AMT3', 'BILL_AMT4', 'BILL_AMT5', 'BILL_AMT6', 'PAY_AMT1',\n",
       "       'PAY_AMT2', 'PAY_AMT3', 'PAY_AMT4', 'PAY_AMT5', 'PAY_AMT6',\n",
       "       'default payment next month'],\n",
       "      dtype='object')"
      ]
     },
     "metadata": {},
     "execution_count": 6
    }
   ],
   "source": [
    "df.columns"
   ]
  },
  {
   "cell_type": "code",
   "execution_count": 7,
   "metadata": {},
   "outputs": [
    {
     "output_type": "stream",
     "name": "stdout",
     "text": [
      "<class 'pandas.core.frame.DataFrame'>\nRangeIndex: 30000 entries, 0 to 29999\nData columns (total 25 columns):\n #   Column                      Non-Null Count  Dtype \n---  ------                      --------------  ----- \n 0   ID                          30000 non-null  object\n 1   LIMIT_BAL                   30000 non-null  int64 \n 2   SEX                         30000 non-null  int64 \n 3   EDUCATION                   30000 non-null  int64 \n 4   MARRIAGE                    30000 non-null  int64 \n 5   AGE                         30000 non-null  int64 \n 6   PAY_1                       30000 non-null  object\n 7   PAY_2                       30000 non-null  int64 \n 8   PAY_3                       30000 non-null  int64 \n 9   PAY_4                       30000 non-null  int64 \n 10  PAY_5                       30000 non-null  int64 \n 11  PAY_6                       30000 non-null  int64 \n 12  BILL_AMT1                   30000 non-null  int64 \n 13  BILL_AMT2                   30000 non-null  int64 \n 14  BILL_AMT3                   30000 non-null  int64 \n 15  BILL_AMT4                   30000 non-null  int64 \n 16  BILL_AMT5                   30000 non-null  int64 \n 17  BILL_AMT6                   30000 non-null  int64 \n 18  PAY_AMT1                    30000 non-null  int64 \n 19  PAY_AMT2                    30000 non-null  int64 \n 20  PAY_AMT3                    30000 non-null  int64 \n 21  PAY_AMT4                    30000 non-null  int64 \n 22  PAY_AMT5                    30000 non-null  int64 \n 23  PAY_AMT6                    30000 non-null  int64 \n 24  default payment next month  30000 non-null  int64 \ndtypes: int64(23), object(2)\nmemory usage: 5.7+ MB\n"
     ]
    }
   ],
   "source": [
    "df.info()"
   ]
  },
  {
   "source": [
    "## Data Cleaning"
   ],
   "cell_type": "markdown",
   "metadata": {}
  },
  {
   "cell_type": "code",
   "execution_count": 8,
   "metadata": {},
   "outputs": [
    {
     "output_type": "execute_result",
     "data": {
      "text/plain": [
       "29687"
      ]
     },
     "metadata": {},
     "execution_count": 8
    }
   ],
   "source": [
    "# total unique rows in the dataset\n",
    "df['ID'].nunique()"
   ]
  },
  {
   "cell_type": "code",
   "execution_count": 13,
   "metadata": {},
   "outputs": [
    {
     "output_type": "execute_result",
     "data": {
      "text/plain": [
       "(30000,)"
      ]
     },
     "metadata": {},
     "execution_count": 13
    }
   ],
   "source": [
    "# total rows in the dataset\n",
    "df['ID'].shape"
   ]
  },
  {
   "cell_type": "code",
   "execution_count": 15,
   "metadata": {},
   "outputs": [
    {
     "output_type": "execute_result",
     "data": {
      "text/plain": [
       "1    29374\n",
       "2      313\n",
       "Name: ID, dtype: int64"
      ]
     },
     "metadata": {},
     "execution_count": 15
    }
   ],
   "source": [
    "# count of the duplicate and unique values\n",
    "id_counts = df['ID'].value_counts()\n",
    "id_counts.value_counts()"
   ]
  },
  {
   "cell_type": "code",
   "execution_count": 16,
   "metadata": {},
   "outputs": [
    {
     "output_type": "execute_result",
     "data": {
      "text/plain": [
       "062f1fe4-9a66    True\n",
       "54ada30b-750f    True\n",
       "249b09c0-f4c7    True\n",
       "1c7af562-f271    True\n",
       "31d0095f-75bc    True\n",
       "Name: ID, dtype: bool"
      ]
     },
     "metadata": {},
     "execution_count": 16
    }
   ],
   "source": [
    "# storing the dup as a mask to filter the duplicate rows\n",
    "dup = id_counts == 2\n",
    "dup[:5]"
   ]
  },
  {
   "cell_type": "code",
   "execution_count": 20,
   "metadata": {},
   "outputs": [
    {
     "output_type": "execute_result",
     "data": {
      "text/plain": [
       "Index(['062f1fe4-9a66', '54ada30b-750f', '249b09c0-f4c7', '1c7af562-f271',\n",
       "       '31d0095f-75bc'],\n",
       "      dtype='object')"
      ]
     },
     "metadata": {},
     "execution_count": 20
    }
   ],
   "source": [
    "# the values of the mask can be indexed\n",
    "id_counts.index[:5]"
   ]
  },
  {
   "cell_type": "code",
   "execution_count": 22,
   "metadata": {},
   "outputs": [
    {
     "output_type": "execute_result",
     "data": {
      "text/plain": [
       "313"
      ]
     },
     "metadata": {},
     "execution_count": 22
    }
   ],
   "source": [
    "# filtering out the duplicate rows\n",
    "dup_ids = id_counts.index[dup]\n",
    "dup_ids = list(dup_ids)\n",
    "len(dup_ids)"
   ]
  },
  {
   "cell_type": "code",
   "execution_count": 23,
   "metadata": {},
   "outputs": [
    {
     "output_type": "execute_result",
     "data": {
      "text/plain": [
       "['062f1fe4-9a66',\n",
       " '54ada30b-750f',\n",
       " '249b09c0-f4c7',\n",
       " '1c7af562-f271',\n",
       " '31d0095f-75bc',\n",
       " '73ed1381-3a3f',\n",
       " '61ae560c-4479',\n",
       " 'f5e3478e-cf68',\n",
       " '42009c72-651f',\n",
       " '3884eeca-7714',\n",
       " '6ff744d5-91f0',\n",
       " '8b62a9c9-7b64',\n",
       " '85bd7f39-2e9b',\n",
       " '62608fd2-d7fb',\n",
       " '0d624cb8-e5f8',\n",
       " 'dd019fd7-f591',\n",
       " 'ff619017-560f',\n",
       " '3393c9e4-3345',\n",
       " 'd9dafe9c-b497',\n",
       " '7b6e060a-97a0',\n",
       " '9d3d2a55-dab6',\n",
       " '5f483bdb-3aaf',\n",
       " '84dc097a-dee3',\n",
       " 'e4936e97-da48',\n",
       " '72598524-ef0b',\n",
       " '05009844-7be8',\n",
       " '91321f74-e4a4',\n",
       " 'e8bcb1bb-456e',\n",
       " '0170086d-7472',\n",
       " 'c5368117-b498',\n",
       " '1d58344c-5793',\n",
       " '9878723a-0b58',\n",
       " 'f63d8fbe-d79e',\n",
       " '994330b6-eeec',\n",
       " '01355f46-3f0b',\n",
       " '2189fc56-f82a',\n",
       " '129c43ca-42ee',\n",
       " '56126c14-b5b8',\n",
       " '27e04c06-487f',\n",
       " '8d3a2576-a958',\n",
       " 'dda76366-a407',\n",
       " 'ae6a7eed-bb58',\n",
       " '7fe414ae-32f8',\n",
       " 'effb69b1-d4d8',\n",
       " '428b26a3-dca2',\n",
       " '20b16b21-8b23',\n",
       " '64fe3b96-7ed0',\n",
       " 'f31d1048-5fa9',\n",
       " '94d59251-fa7f',\n",
       " '0a2dceda-b597',\n",
       " 'a3e05a29-d6df',\n",
       " '3fd4854f-8752',\n",
       " 'a3a5c0fc-fdd6',\n",
       " 'b4937915-ad67',\n",
       " 'dab579ee-1645',\n",
       " 'edd737fd-5b07',\n",
       " '20050b52-5d6e',\n",
       " '379e0b03-4ca0',\n",
       " 'a53a8d32-2c61',\n",
       " '0a8272b2-78aa',\n",
       " '590a776e-5049',\n",
       " '0ab4e6e8-69e5',\n",
       " '742d1d93-0d3b',\n",
       " 'ff6e1bd3-4e91',\n",
       " '733aa344-0dae',\n",
       " '999b7824-373c',\n",
       " '527c11ea-113e',\n",
       " 'f9d25524-9d69',\n",
       " '266c34a2-16c9',\n",
       " '91084359-8bd4',\n",
       " 'c84dd06b-71f5',\n",
       " '83d174e1-5f9a',\n",
       " '5795a795-bfa0',\n",
       " 'c9826d63-f7d3',\n",
       " '168dcd08-0ed9',\n",
       " 'e7cd8c1a-88e9',\n",
       " 'd6697da8-74fc',\n",
       " 'a51dbaae-d88b',\n",
       " '693a0664-bde6',\n",
       " 'bf23c70b-bf12',\n",
       " '98395d08-9643',\n",
       " '5deff6b6-62ff',\n",
       " '382b378c-6383',\n",
       " 'd2a47fa6-0f6a',\n",
       " '3367c92b-b1ca',\n",
       " '3d832783-1571',\n",
       " 'a7e199e1-2c44',\n",
       " 'fa286931-8ded',\n",
       " '5f38afd8-e138',\n",
       " 'f56a0841-4328',\n",
       " 'e3035b40-0c02',\n",
       " '659da309-053c',\n",
       " 'e850d228-6879',\n",
       " 'ff8b7170-ce3a',\n",
       " 'a7559852-f405',\n",
       " '2a793ecf-05c6',\n",
       " 'd13465a5-a9e0',\n",
       " '415c344e-309f',\n",
       " '7b7cc3cd-0b76',\n",
       " '4f249cbc-5e9c',\n",
       " 'bbf202ae-a964',\n",
       " 'cd944abe-cef9',\n",
       " 'd5aeb496-64e5',\n",
       " 'f9bcd13e-96bc',\n",
       " '73baf2c4-6e90',\n",
       " 'f20d8a3d-d047',\n",
       " '63b20368-1a04',\n",
       " 'c3ae3600-3837',\n",
       " 'f0bb9e5a-eb11',\n",
       " '16d73782-d5e6',\n",
       " 'df3d13be-9c13',\n",
       " 'b74033dc-6e45',\n",
       " 'c3ddce11-35e2',\n",
       " '7be61027-a493',\n",
       " '5f79f818-18af',\n",
       " '15edb406-305b',\n",
       " '4cb27699-fe3f',\n",
       " 'f41bbcf7-5f86',\n",
       " '80282ca6-96a6',\n",
       " 'af9f7f07-e228',\n",
       " '5ce60722-dbd1',\n",
       " '3e60a98c-e520',\n",
       " '5edb4d2b-067c',\n",
       " '4534975d-bf92',\n",
       " '1a055566-c187',\n",
       " 'f37328b4-7b3a',\n",
       " '90f662f9-c1e3',\n",
       " 'c69162db-4864',\n",
       " '51e5ff58-5a0f',\n",
       " '7dbc4ebf-4b4f',\n",
       " '6d1fc219-67b0',\n",
       " 'e07a0034-42af',\n",
       " '8f4a90bc-bbb0',\n",
       " '4f95b36b-ab10',\n",
       " '98b8a2ca-8988',\n",
       " '9ac5d94f-ed71',\n",
       " '62b1d551-2414',\n",
       " '9e74795e-cb34',\n",
       " '04299d54-61d4',\n",
       " '08425e64-bf76',\n",
       " '297edb0f-3bb1',\n",
       " '1b22b0ab-aba3',\n",
       " '165206d2-50a5',\n",
       " 'd5905747-8aef',\n",
       " 'a9870d3e-b4d1',\n",
       " 'f11c5e51-a535',\n",
       " '59387843-6db1',\n",
       " 'ffa0f012-3bd7',\n",
       " '214fc1ca-b25a',\n",
       " 'fc73f07e-eb96',\n",
       " 'db91a87c-3cbe',\n",
       " 'af1e3f79-f628',\n",
       " '68ff6fcd-1d49',\n",
       " '9c53fb07-9b73',\n",
       " '93b2c5f7-acea',\n",
       " '823267c1-561b',\n",
       " '3cd5c728-df14',\n",
       " 'e668604e-21f6',\n",
       " 'f0b963e7-4933',\n",
       " '555a25cd-2d05',\n",
       " '2ba2d987-103e',\n",
       " 'cfa9d026-de0d',\n",
       " '4dc45e9a-27bd',\n",
       " '369e565a-26a1',\n",
       " 'b46f955f-9e8a',\n",
       " 'feac3745-a2be',\n",
       " '75bdf204-83c2',\n",
       " '96970f37-abaa',\n",
       " 'accba688-8ec1',\n",
       " 'a17f0f1f-d9f6',\n",
       " '8a6bbf3d-8a2d',\n",
       " '7c9b7473-cc2f',\n",
       " '37499e8b-ac16',\n",
       " '060c8137-6a4e',\n",
       " 'e8ee55be-0a11',\n",
       " '9a75e346-c849',\n",
       " '87dec940-75b7',\n",
       " '956cbf4a-d24e',\n",
       " '841ae407-dc4c',\n",
       " '33b2b726-61a8',\n",
       " '355fe35a-5db7',\n",
       " 'f7fe4368-18e7',\n",
       " '7d5f3242-e1df',\n",
       " '69566a6b-6156',\n",
       " '30729bb5-55d7',\n",
       " 'bdb3b33c-83a9',\n",
       " 'b9591d1a-8480',\n",
       " 'e50d8395-da32',\n",
       " '8d1b6de3-9795',\n",
       " '52bcd5ae-72d3',\n",
       " '89d3cebd-346f',\n",
       " '6353fd55-d66e',\n",
       " 'ab09b4b4-8331',\n",
       " 'ad63957b-ea9a',\n",
       " '3fddeb07-b7f0',\n",
       " '5718f600-12ac',\n",
       " '26d4a6eb-8abe',\n",
       " 'dbf9fb14-2656',\n",
       " 'f6032812-464e',\n",
       " 'f12b9d9e-ada0',\n",
       " '94d8b70f-361d',\n",
       " '4e2380e6-a8cf',\n",
       " 'a9ce8636-9a88',\n",
       " 'b3c9d09b-ed59',\n",
       " '5b8dce34-2ded',\n",
       " 'b44b81b2-7789',\n",
       " '0724677e-ec01',\n",
       " '0d66d575-c461',\n",
       " '56945919-0933',\n",
       " '75938fec-e5ec',\n",
       " '1fb3e3e6-a68d',\n",
       " '77222291-e191',\n",
       " 'e39d23fe-aa5f',\n",
       " '04c32736-903c',\n",
       " 'b1c90397-5fb2',\n",
       " 'fd6033f4-cc72',\n",
       " '26bde6da-f148',\n",
       " '7e7a4087-4def',\n",
       " 'ea8d41fd-b8a3',\n",
       " 'ad819541-5d3c',\n",
       " 'b87bf8f3-d704',\n",
       " '2a8ad33f-fa9c',\n",
       " '71b5009c-75c8',\n",
       " '7574bf9e-f3f9',\n",
       " '9db1809e-845a',\n",
       " 'b6ca3733-7459',\n",
       " '86477d4e-795e',\n",
       " '8567249b-827e',\n",
       " '6870544f-459e',\n",
       " '28866128-6286',\n",
       " '2458b96d-e8f1',\n",
       " 'ad23fe5c-7b09',\n",
       " '6c0797cd-f663',\n",
       " '5f463f95-a4ae',\n",
       " 'f0723a52-7018',\n",
       " '3d61e71b-f65e',\n",
       " '1512a948-a7e4',\n",
       " '315e4f9d-2b0b',\n",
       " 'e8037410-5cd0',\n",
       " '40e75290-0f59',\n",
       " '2a8713e6-0f03',\n",
       " '82da3aa5-97a6',\n",
       " '443324fb-5cfc',\n",
       " 'd1808f44-48ce',\n",
       " '9929aa3b-d8f6',\n",
       " 'c89b26ff-ec7f',\n",
       " '9611f432-7f70',\n",
       " '424e8a3c-0377',\n",
       " '310d5326-56c7',\n",
       " 'ef889a72-06f5',\n",
       " '4ae0efd7-2651',\n",
       " '3cfed539-ad58',\n",
       " '4653bc48-0141',\n",
       " 'e7f574b9-0581',\n",
       " 'ebda7f71-7024',\n",
       " '2f4f4bc9-fd55',\n",
       " 'bbffebbc-e3c4',\n",
       " '998fa9b2-b341',\n",
       " '25a28c93-508a',\n",
       " 'c8bb762f-3ef9',\n",
       " 'ca3910f2-92ca',\n",
       " 'ac821a7b-b399',\n",
       " 'ffb9a143-c375',\n",
       " '3511ed92-c434',\n",
       " 'ddcc7278-7017',\n",
       " '94c4ece8-bba6',\n",
       " 'bae9475e-7cad',\n",
       " '4fcef74d-0b3d',\n",
       " '89f8f447-fca8',\n",
       " '45cceda0-6fb7',\n",
       " '2618fdc4-e731',\n",
       " 'cb18af1f-3b53',\n",
       " '634d5510-7240',\n",
       " '47d9ee33-0df0',\n",
       " 'c361e43d-f1f4',\n",
       " '4a051fdc-d04c',\n",
       " 'db903e22-a55a',\n",
       " '9e6e766d-ba75',\n",
       " '0ad143f2-bd95',\n",
       " '0a37c2c7-6065',\n",
       " '4cf8397f-6359',\n",
       " '90330d02-82d9',\n",
       " '91c69d1a-8732',\n",
       " '02e41927-a6df',\n",
       " '73ea498f-44b2',\n",
       " '0913d642-c5d4',\n",
       " '0a2d6db4-0c54',\n",
       " 'a9d910f4-fe9a',\n",
       " '0a5048ae-e120',\n",
       " '327d06d5-ce7f',\n",
       " 'af052d9b-f06b',\n",
       " '63338f74-01be',\n",
       " '94e1b326-8c22',\n",
       " '183f18d5-0b44',\n",
       " 'cdae2be5-8ec4',\n",
       " 'adeed333-dbfd',\n",
       " 'b557f3c2-ebec',\n",
       " 'e77f7765-8731',\n",
       " '775d61d0-4715',\n",
       " '71b26a8d-da70',\n",
       " '1bf3b4eb-d759',\n",
       " '3327c2a8-3402',\n",
       " 'f86688f1-8742',\n",
       " '8f9549b7-d5a4',\n",
       " '9389d6e1-e1a7',\n",
       " 'd50ebd87-8b6d',\n",
       " '97f74dea-338e',\n",
       " '06f377a6-ba7e',\n",
       " '97d1d2eb-c72f',\n",
       " '16ee3668-0b5b',\n",
       " '37a1d9c2-701c',\n",
       " 'c5a658d0-92da',\n",
       " '33bf169b-258a']"
      ]
     },
     "metadata": {},
     "execution_count": 23
    }
   ],
   "source": [
    "# duplicate rows\n",
    "dup_ids"
   ]
  },
  {
   "cell_type": "code",
   "execution_count": 24,
   "metadata": {},
   "outputs": [
    {
     "output_type": "execute_result",
     "data": {
      "text/plain": [
       "                ID  LIMIT_BAL  SEX  EDUCATION  MARRIAGE  AGE PAY_1  PAY_2  \\\n",
       "141  26bde6da-f148     180000    1          2         2   28    -1     -1   \n",
       "196  42009c72-651f     150000    2          2         1   34    -2     -2   \n",
       "241  26bde6da-f148          0    0          0         0    0     0      0   \n",
       "296  42009c72-651f          0    0          0         0    0     0      0   \n",
       "323  73ed1381-3a3f     230000    2          2         1   28     0      0   \n",
       "\n",
       "     PAY_3  PAY_4  ...  BILL_AMT4  BILL_AMT5  BILL_AMT6  PAY_AMT1  PAY_AMT2  \\\n",
       "141     -1     -1  ...        332        416        416         0       416   \n",
       "196     -2     -2  ...        116          0       1500         0         0   \n",
       "241      0      0  ...          0          0          0         0         0   \n",
       "296      0      0  ...          0          0          0         0         0   \n",
       "323      0     -2  ...       2100        767       6173      1710      1100   \n",
       "\n",
       "     PAY_AMT3  PAY_AMT4  PAY_AMT5  PAY_AMT6  default payment next month  \n",
       "141       332       500      3500       832                           0  \n",
       "196       116         0      1500         0                           0  \n",
       "241         0         0         0         0                           0  \n",
       "296         0         0         0         0                           0  \n",
       "323      1000       767      6173      1000                           1  \n",
       "\n",
       "[5 rows x 25 columns]"
      ],
      "text/html": "<div>\n<style scoped>\n    .dataframe tbody tr th:only-of-type {\n        vertical-align: middle;\n    }\n\n    .dataframe tbody tr th {\n        vertical-align: top;\n    }\n\n    .dataframe thead th {\n        text-align: right;\n    }\n</style>\n<table border=\"1\" class=\"dataframe\">\n  <thead>\n    <tr style=\"text-align: right;\">\n      <th></th>\n      <th>ID</th>\n      <th>LIMIT_BAL</th>\n      <th>SEX</th>\n      <th>EDUCATION</th>\n      <th>MARRIAGE</th>\n      <th>AGE</th>\n      <th>PAY_1</th>\n      <th>PAY_2</th>\n      <th>PAY_3</th>\n      <th>PAY_4</th>\n      <th>...</th>\n      <th>BILL_AMT4</th>\n      <th>BILL_AMT5</th>\n      <th>BILL_AMT6</th>\n      <th>PAY_AMT1</th>\n      <th>PAY_AMT2</th>\n      <th>PAY_AMT3</th>\n      <th>PAY_AMT4</th>\n      <th>PAY_AMT5</th>\n      <th>PAY_AMT6</th>\n      <th>default payment next month</th>\n    </tr>\n  </thead>\n  <tbody>\n    <tr>\n      <th>141</th>\n      <td>26bde6da-f148</td>\n      <td>180000</td>\n      <td>1</td>\n      <td>2</td>\n      <td>2</td>\n      <td>28</td>\n      <td>-1</td>\n      <td>-1</td>\n      <td>-1</td>\n      <td>-1</td>\n      <td>...</td>\n      <td>332</td>\n      <td>416</td>\n      <td>416</td>\n      <td>0</td>\n      <td>416</td>\n      <td>332</td>\n      <td>500</td>\n      <td>3500</td>\n      <td>832</td>\n      <td>0</td>\n    </tr>\n    <tr>\n      <th>196</th>\n      <td>42009c72-651f</td>\n      <td>150000</td>\n      <td>2</td>\n      <td>2</td>\n      <td>1</td>\n      <td>34</td>\n      <td>-2</td>\n      <td>-2</td>\n      <td>-2</td>\n      <td>-2</td>\n      <td>...</td>\n      <td>116</td>\n      <td>0</td>\n      <td>1500</td>\n      <td>0</td>\n      <td>0</td>\n      <td>116</td>\n      <td>0</td>\n      <td>1500</td>\n      <td>0</td>\n      <td>0</td>\n    </tr>\n    <tr>\n      <th>241</th>\n      <td>26bde6da-f148</td>\n      <td>0</td>\n      <td>0</td>\n      <td>0</td>\n      <td>0</td>\n      <td>0</td>\n      <td>0</td>\n      <td>0</td>\n      <td>0</td>\n      <td>0</td>\n      <td>...</td>\n      <td>0</td>\n      <td>0</td>\n      <td>0</td>\n      <td>0</td>\n      <td>0</td>\n      <td>0</td>\n      <td>0</td>\n      <td>0</td>\n      <td>0</td>\n      <td>0</td>\n    </tr>\n    <tr>\n      <th>296</th>\n      <td>42009c72-651f</td>\n      <td>0</td>\n      <td>0</td>\n      <td>0</td>\n      <td>0</td>\n      <td>0</td>\n      <td>0</td>\n      <td>0</td>\n      <td>0</td>\n      <td>0</td>\n      <td>...</td>\n      <td>0</td>\n      <td>0</td>\n      <td>0</td>\n      <td>0</td>\n      <td>0</td>\n      <td>0</td>\n      <td>0</td>\n      <td>0</td>\n      <td>0</td>\n      <td>0</td>\n    </tr>\n    <tr>\n      <th>323</th>\n      <td>73ed1381-3a3f</td>\n      <td>230000</td>\n      <td>2</td>\n      <td>2</td>\n      <td>1</td>\n      <td>28</td>\n      <td>0</td>\n      <td>0</td>\n      <td>0</td>\n      <td>-2</td>\n      <td>...</td>\n      <td>2100</td>\n      <td>767</td>\n      <td>6173</td>\n      <td>1710</td>\n      <td>1100</td>\n      <td>1000</td>\n      <td>767</td>\n      <td>6173</td>\n      <td>1000</td>\n      <td>1</td>\n    </tr>\n  </tbody>\n</table>\n<p>5 rows × 25 columns</p>\n</div>"
     },
     "metadata": {},
     "execution_count": 24
    }
   ],
   "source": [
    "df.loc[df['ID'].isin(dup_ids),:].head()"
   ]
  },
  {
   "cell_type": "code",
   "execution_count": 26,
   "metadata": {},
   "outputs": [
    {
     "output_type": "execute_result",
     "data": {
      "text/plain": [
       "ID                            42009c72-651f\n",
       "LIMIT_BAL                                 0\n",
       "SEX                                       0\n",
       "EDUCATION                                 0\n",
       "MARRIAGE                                  0\n",
       "AGE                                       0\n",
       "PAY_1                                     0\n",
       "PAY_2                                     0\n",
       "PAY_3                                     0\n",
       "PAY_4                                     0\n",
       "PAY_5                                     0\n",
       "PAY_6                                     0\n",
       "BILL_AMT1                                 0\n",
       "BILL_AMT2                                 0\n",
       "BILL_AMT3                                 0\n",
       "BILL_AMT4                                 0\n",
       "BILL_AMT5                                 0\n",
       "BILL_AMT6                                 0\n",
       "PAY_AMT1                                  0\n",
       "PAY_AMT2                                  0\n",
       "PAY_AMT3                                  0\n",
       "PAY_AMT4                                  0\n",
       "PAY_AMT5                                  0\n",
       "PAY_AMT6                                  0\n",
       "default payment next month                0\n",
       "Name: 296, dtype: object"
      ]
     },
     "metadata": {},
     "execution_count": 26
    }
   ],
   "source": [
    "df.loc[296]"
   ]
  },
  {
   "source": [
    "### Looks like some rows have only zero values which is useless,\n",
    "### we will remove those rows"
   ],
   "cell_type": "markdown",
   "metadata": {}
  },
  {
   "cell_type": "code",
   "execution_count": 27,
   "metadata": {},
   "outputs": [
    {
     "output_type": "execute_result",
     "data": {
      "text/plain": [
       "          ID  LIMIT_BAL    SEX  EDUCATION  MARRIAGE    AGE  PAY_1  PAY_2  \\\n",
       "0      False      False  False      False     False  False  False  False   \n",
       "1      False      False  False      False     False  False  False  False   \n",
       "2      False      False  False      False     False  False   True   True   \n",
       "3      False      False  False      False     False  False   True   True   \n",
       "4      False      False  False      False     False  False  False   True   \n",
       "...      ...        ...    ...        ...       ...    ...    ...    ...   \n",
       "29995  False      False  False      False     False  False   True   True   \n",
       "29996  False      False  False      False     False  False  False  False   \n",
       "29997  False      False  False      False     False  False  False  False   \n",
       "29998  False      False  False      False     False  False  False  False   \n",
       "29999  False      False  False      False     False  False   True   True   \n",
       "\n",
       "       PAY_3  PAY_4  ...  BILL_AMT4  BILL_AMT5  BILL_AMT6  PAY_AMT1  PAY_AMT2  \\\n",
       "0      False  False  ...       True       True       True      True     False   \n",
       "1       True   True  ...      False      False      False      True     False   \n",
       "2       True   True  ...      False      False      False     False     False   \n",
       "3       True   True  ...      False      False      False     False     False   \n",
       "4      False   True  ...      False      False      False     False     False   \n",
       "...      ...    ...  ...        ...        ...        ...       ...       ...   \n",
       "29995   True   True  ...      False      False      False     False     False   \n",
       "29996  False  False  ...      False      False       True     False     False   \n",
       "29997  False  False  ...      False      False      False      True      True   \n",
       "29998   True   True  ...      False      False      False     False     False   \n",
       "29999   True   True  ...      False      False      False     False     False   \n",
       "\n",
       "       PAY_AMT3  PAY_AMT4  PAY_AMT5  PAY_AMT6  default payment next month  \n",
       "0          True      True      True      True                       False  \n",
       "1         False     False      True     False                       False  \n",
       "2         False     False     False     False                        True  \n",
       "3         False     False     False     False                        True  \n",
       "4         False     False     False     False                        True  \n",
       "...         ...       ...       ...       ...                         ...  \n",
       "29995     False     False     False     False                        True  \n",
       "29996     False     False      True      True                        True  \n",
       "29997     False     False     False     False                       False  \n",
       "29998     False     False     False     False                       False  \n",
       "29999     False     False     False     False                       False  \n",
       "\n",
       "[30000 rows x 25 columns]"
      ],
      "text/html": "<div>\n<style scoped>\n    .dataframe tbody tr th:only-of-type {\n        vertical-align: middle;\n    }\n\n    .dataframe tbody tr th {\n        vertical-align: top;\n    }\n\n    .dataframe thead th {\n        text-align: right;\n    }\n</style>\n<table border=\"1\" class=\"dataframe\">\n  <thead>\n    <tr style=\"text-align: right;\">\n      <th></th>\n      <th>ID</th>\n      <th>LIMIT_BAL</th>\n      <th>SEX</th>\n      <th>EDUCATION</th>\n      <th>MARRIAGE</th>\n      <th>AGE</th>\n      <th>PAY_1</th>\n      <th>PAY_2</th>\n      <th>PAY_3</th>\n      <th>PAY_4</th>\n      <th>...</th>\n      <th>BILL_AMT4</th>\n      <th>BILL_AMT5</th>\n      <th>BILL_AMT6</th>\n      <th>PAY_AMT1</th>\n      <th>PAY_AMT2</th>\n      <th>PAY_AMT3</th>\n      <th>PAY_AMT4</th>\n      <th>PAY_AMT5</th>\n      <th>PAY_AMT6</th>\n      <th>default payment next month</th>\n    </tr>\n  </thead>\n  <tbody>\n    <tr>\n      <th>0</th>\n      <td>False</td>\n      <td>False</td>\n      <td>False</td>\n      <td>False</td>\n      <td>False</td>\n      <td>False</td>\n      <td>False</td>\n      <td>False</td>\n      <td>False</td>\n      <td>False</td>\n      <td>...</td>\n      <td>True</td>\n      <td>True</td>\n      <td>True</td>\n      <td>True</td>\n      <td>False</td>\n      <td>True</td>\n      <td>True</td>\n      <td>True</td>\n      <td>True</td>\n      <td>False</td>\n    </tr>\n    <tr>\n      <th>1</th>\n      <td>False</td>\n      <td>False</td>\n      <td>False</td>\n      <td>False</td>\n      <td>False</td>\n      <td>False</td>\n      <td>False</td>\n      <td>False</td>\n      <td>True</td>\n      <td>True</td>\n      <td>...</td>\n      <td>False</td>\n      <td>False</td>\n      <td>False</td>\n      <td>True</td>\n      <td>False</td>\n      <td>False</td>\n      <td>False</td>\n      <td>True</td>\n      <td>False</td>\n      <td>False</td>\n    </tr>\n    <tr>\n      <th>2</th>\n      <td>False</td>\n      <td>False</td>\n      <td>False</td>\n      <td>False</td>\n      <td>False</td>\n      <td>False</td>\n      <td>True</td>\n      <td>True</td>\n      <td>True</td>\n      <td>True</td>\n      <td>...</td>\n      <td>False</td>\n      <td>False</td>\n      <td>False</td>\n      <td>False</td>\n      <td>False</td>\n      <td>False</td>\n      <td>False</td>\n      <td>False</td>\n      <td>False</td>\n      <td>True</td>\n    </tr>\n    <tr>\n      <th>3</th>\n      <td>False</td>\n      <td>False</td>\n      <td>False</td>\n      <td>False</td>\n      <td>False</td>\n      <td>False</td>\n      <td>True</td>\n      <td>True</td>\n      <td>True</td>\n      <td>True</td>\n      <td>...</td>\n      <td>False</td>\n      <td>False</td>\n      <td>False</td>\n      <td>False</td>\n      <td>False</td>\n      <td>False</td>\n      <td>False</td>\n      <td>False</td>\n      <td>False</td>\n      <td>True</td>\n    </tr>\n    <tr>\n      <th>4</th>\n      <td>False</td>\n      <td>False</td>\n      <td>False</td>\n      <td>False</td>\n      <td>False</td>\n      <td>False</td>\n      <td>False</td>\n      <td>True</td>\n      <td>False</td>\n      <td>True</td>\n      <td>...</td>\n      <td>False</td>\n      <td>False</td>\n      <td>False</td>\n      <td>False</td>\n      <td>False</td>\n      <td>False</td>\n      <td>False</td>\n      <td>False</td>\n      <td>False</td>\n      <td>True</td>\n    </tr>\n    <tr>\n      <th>...</th>\n      <td>...</td>\n      <td>...</td>\n      <td>...</td>\n      <td>...</td>\n      <td>...</td>\n      <td>...</td>\n      <td>...</td>\n      <td>...</td>\n      <td>...</td>\n      <td>...</td>\n      <td>...</td>\n      <td>...</td>\n      <td>...</td>\n      <td>...</td>\n      <td>...</td>\n      <td>...</td>\n      <td>...</td>\n      <td>...</td>\n      <td>...</td>\n      <td>...</td>\n      <td>...</td>\n    </tr>\n    <tr>\n      <th>29995</th>\n      <td>False</td>\n      <td>False</td>\n      <td>False</td>\n      <td>False</td>\n      <td>False</td>\n      <td>False</td>\n      <td>True</td>\n      <td>True</td>\n      <td>True</td>\n      <td>True</td>\n      <td>...</td>\n      <td>False</td>\n      <td>False</td>\n      <td>False</td>\n      <td>False</td>\n      <td>False</td>\n      <td>False</td>\n      <td>False</td>\n      <td>False</td>\n      <td>False</td>\n      <td>True</td>\n    </tr>\n    <tr>\n      <th>29996</th>\n      <td>False</td>\n      <td>False</td>\n      <td>False</td>\n      <td>False</td>\n      <td>False</td>\n      <td>False</td>\n      <td>False</td>\n      <td>False</td>\n      <td>False</td>\n      <td>False</td>\n      <td>...</td>\n      <td>False</td>\n      <td>False</td>\n      <td>True</td>\n      <td>False</td>\n      <td>False</td>\n      <td>False</td>\n      <td>False</td>\n      <td>True</td>\n      <td>True</td>\n      <td>True</td>\n    </tr>\n    <tr>\n      <th>29997</th>\n      <td>False</td>\n      <td>False</td>\n      <td>False</td>\n      <td>False</td>\n      <td>False</td>\n      <td>False</td>\n      <td>False</td>\n      <td>False</td>\n      <td>False</td>\n      <td>False</td>\n      <td>...</td>\n      <td>False</td>\n      <td>False</td>\n      <td>False</td>\n      <td>True</td>\n      <td>True</td>\n      <td>False</td>\n      <td>False</td>\n      <td>False</td>\n      <td>False</td>\n      <td>False</td>\n    </tr>\n    <tr>\n      <th>29998</th>\n      <td>False</td>\n      <td>False</td>\n      <td>False</td>\n      <td>False</td>\n      <td>False</td>\n      <td>False</td>\n      <td>False</td>\n      <td>False</td>\n      <td>True</td>\n      <td>True</td>\n      <td>...</td>\n      <td>False</td>\n      <td>False</td>\n      <td>False</td>\n      <td>False</td>\n      <td>False</td>\n      <td>False</td>\n      <td>False</td>\n      <td>False</td>\n      <td>False</td>\n      <td>False</td>\n    </tr>\n    <tr>\n      <th>29999</th>\n      <td>False</td>\n      <td>False</td>\n      <td>False</td>\n      <td>False</td>\n      <td>False</td>\n      <td>False</td>\n      <td>True</td>\n      <td>True</td>\n      <td>True</td>\n      <td>True</td>\n      <td>...</td>\n      <td>False</td>\n      <td>False</td>\n      <td>False</td>\n      <td>False</td>\n      <td>False</td>\n      <td>False</td>\n      <td>False</td>\n      <td>False</td>\n      <td>False</td>\n      <td>False</td>\n    </tr>\n  </tbody>\n</table>\n<p>30000 rows × 25 columns</p>\n</div>"
     },
     "metadata": {},
     "execution_count": 27
    }
   ],
   "source": [
    "zero_mask = df == 0\n",
    "zero_mask"
   ]
  },
  {
   "cell_type": "code",
   "execution_count": 29,
   "metadata": {},
   "outputs": [],
   "source": [
    "all_zeros = zero_mask.iloc[:,1:].all(axis=1)"
   ]
  },
  {
   "cell_type": "code",
   "execution_count": 30,
   "metadata": {},
   "outputs": [
    {
     "output_type": "execute_result",
     "data": {
      "text/plain": [
       "315"
      ]
     },
     "metadata": {},
     "execution_count": 30
    }
   ],
   "source": [
    "sum(all_zeros)"
   ]
  },
  {
   "cell_type": "code",
   "execution_count": 31,
   "metadata": {},
   "outputs": [
    {
     "output_type": "execute_result",
     "data": {
      "text/plain": [
       "              ID  LIMIT_BAL  SEX  EDUCATION  MARRIAGE  AGE PAY_1  PAY_2  \\\n",
       "0  798fc410-45c1      20000    2          2         1   24     2      2   \n",
       "1  8a8c8f3b-8eb4     120000    2          2         2   26    -1      2   \n",
       "2  85698822-43f5      90000    2          2         2   34     0      0   \n",
       "3  0737c11b-be42      50000    2          2         1   37     0      0   \n",
       "4  3b7f77cc-dbc0      50000    1          2         1   57    -1      0   \n",
       "\n",
       "   PAY_3  PAY_4  ...  BILL_AMT4  BILL_AMT5  BILL_AMT6  PAY_AMT1  PAY_AMT2  \\\n",
       "0     -1     -1  ...          0          0          0         0       689   \n",
       "1      0      0  ...       3272       3455       3261         0      1000   \n",
       "2      0      0  ...      14331      14948      15549      1518      1500   \n",
       "3      0      0  ...      28314      28959      29547      2000      2019   \n",
       "4     -1      0  ...      20940      19146      19131      2000     36681   \n",
       "\n",
       "   PAY_AMT3  PAY_AMT4  PAY_AMT5  PAY_AMT6  default payment next month  \n",
       "0         0         0         0         0                           1  \n",
       "1      1000      1000         0      2000                           1  \n",
       "2      1000      1000      1000      5000                           0  \n",
       "3      1200      1100      1069      1000                           0  \n",
       "4     10000      9000       689       679                           0  \n",
       "\n",
       "[5 rows x 25 columns]"
      ],
      "text/html": "<div>\n<style scoped>\n    .dataframe tbody tr th:only-of-type {\n        vertical-align: middle;\n    }\n\n    .dataframe tbody tr th {\n        vertical-align: top;\n    }\n\n    .dataframe thead th {\n        text-align: right;\n    }\n</style>\n<table border=\"1\" class=\"dataframe\">\n  <thead>\n    <tr style=\"text-align: right;\">\n      <th></th>\n      <th>ID</th>\n      <th>LIMIT_BAL</th>\n      <th>SEX</th>\n      <th>EDUCATION</th>\n      <th>MARRIAGE</th>\n      <th>AGE</th>\n      <th>PAY_1</th>\n      <th>PAY_2</th>\n      <th>PAY_3</th>\n      <th>PAY_4</th>\n      <th>...</th>\n      <th>BILL_AMT4</th>\n      <th>BILL_AMT5</th>\n      <th>BILL_AMT6</th>\n      <th>PAY_AMT1</th>\n      <th>PAY_AMT2</th>\n      <th>PAY_AMT3</th>\n      <th>PAY_AMT4</th>\n      <th>PAY_AMT5</th>\n      <th>PAY_AMT6</th>\n      <th>default payment next month</th>\n    </tr>\n  </thead>\n  <tbody>\n    <tr>\n      <th>0</th>\n      <td>798fc410-45c1</td>\n      <td>20000</td>\n      <td>2</td>\n      <td>2</td>\n      <td>1</td>\n      <td>24</td>\n      <td>2</td>\n      <td>2</td>\n      <td>-1</td>\n      <td>-1</td>\n      <td>...</td>\n      <td>0</td>\n      <td>0</td>\n      <td>0</td>\n      <td>0</td>\n      <td>689</td>\n      <td>0</td>\n      <td>0</td>\n      <td>0</td>\n      <td>0</td>\n      <td>1</td>\n    </tr>\n    <tr>\n      <th>1</th>\n      <td>8a8c8f3b-8eb4</td>\n      <td>120000</td>\n      <td>2</td>\n      <td>2</td>\n      <td>2</td>\n      <td>26</td>\n      <td>-1</td>\n      <td>2</td>\n      <td>0</td>\n      <td>0</td>\n      <td>...</td>\n      <td>3272</td>\n      <td>3455</td>\n      <td>3261</td>\n      <td>0</td>\n      <td>1000</td>\n      <td>1000</td>\n      <td>1000</td>\n      <td>0</td>\n      <td>2000</td>\n      <td>1</td>\n    </tr>\n    <tr>\n      <th>2</th>\n      <td>85698822-43f5</td>\n      <td>90000</td>\n      <td>2</td>\n      <td>2</td>\n      <td>2</td>\n      <td>34</td>\n      <td>0</td>\n      <td>0</td>\n      <td>0</td>\n      <td>0</td>\n      <td>...</td>\n      <td>14331</td>\n      <td>14948</td>\n      <td>15549</td>\n      <td>1518</td>\n      <td>1500</td>\n      <td>1000</td>\n      <td>1000</td>\n      <td>1000</td>\n      <td>5000</td>\n      <td>0</td>\n    </tr>\n    <tr>\n      <th>3</th>\n      <td>0737c11b-be42</td>\n      <td>50000</td>\n      <td>2</td>\n      <td>2</td>\n      <td>1</td>\n      <td>37</td>\n      <td>0</td>\n      <td>0</td>\n      <td>0</td>\n      <td>0</td>\n      <td>...</td>\n      <td>28314</td>\n      <td>28959</td>\n      <td>29547</td>\n      <td>2000</td>\n      <td>2019</td>\n      <td>1200</td>\n      <td>1100</td>\n      <td>1069</td>\n      <td>1000</td>\n      <td>0</td>\n    </tr>\n    <tr>\n      <th>4</th>\n      <td>3b7f77cc-dbc0</td>\n      <td>50000</td>\n      <td>1</td>\n      <td>2</td>\n      <td>1</td>\n      <td>57</td>\n      <td>-1</td>\n      <td>0</td>\n      <td>-1</td>\n      <td>0</td>\n      <td>...</td>\n      <td>20940</td>\n      <td>19146</td>\n      <td>19131</td>\n      <td>2000</td>\n      <td>36681</td>\n      <td>10000</td>\n      <td>9000</td>\n      <td>689</td>\n      <td>679</td>\n      <td>0</td>\n    </tr>\n  </tbody>\n</table>\n<p>5 rows × 25 columns</p>\n</div>"
     },
     "metadata": {},
     "execution_count": 31
    }
   ],
   "source": [
    "df_cleaned = df.loc[~all_zeros,:].copy()\n",
    "df_cleaned.head()"
   ]
  },
  {
   "cell_type": "code",
   "execution_count": 33,
   "metadata": {},
   "outputs": [
    {
     "output_type": "execute_result",
     "data": {
      "text/plain": [
       "29685"
      ]
     },
     "metadata": {},
     "execution_count": 33
    }
   ],
   "source": [
    "df_cleaned['ID'].nunique()"
   ]
  },
  {
   "cell_type": "code",
   "execution_count": 34,
   "metadata": {},
   "outputs": [
    {
     "output_type": "execute_result",
     "data": {
      "text/plain": [
       "(29685, 25)"
      ]
     },
     "metadata": {},
     "execution_count": 34
    }
   ],
   "source": [
    "df_cleaned.shape"
   ]
  },
  {
   "cell_type": "code",
   "execution_count": 35,
   "metadata": {},
   "outputs": [
    {
     "output_type": "stream",
     "name": "stdout",
     "text": [
      "<class 'pandas.core.frame.DataFrame'>\nInt64Index: 29685 entries, 0 to 29999\nData columns (total 25 columns):\n #   Column                      Non-Null Count  Dtype \n---  ------                      --------------  ----- \n 0   ID                          29685 non-null  object\n 1   LIMIT_BAL                   29685 non-null  int64 \n 2   SEX                         29685 non-null  int64 \n 3   EDUCATION                   29685 non-null  int64 \n 4   MARRIAGE                    29685 non-null  int64 \n 5   AGE                         29685 non-null  int64 \n 6   PAY_1                       29685 non-null  object\n 7   PAY_2                       29685 non-null  int64 \n 8   PAY_3                       29685 non-null  int64 \n 9   PAY_4                       29685 non-null  int64 \n 10  PAY_5                       29685 non-null  int64 \n 11  PAY_6                       29685 non-null  int64 \n 12  BILL_AMT1                   29685 non-null  int64 \n 13  BILL_AMT2                   29685 non-null  int64 \n 14  BILL_AMT3                   29685 non-null  int64 \n 15  BILL_AMT4                   29685 non-null  int64 \n 16  BILL_AMT5                   29685 non-null  int64 \n 17  BILL_AMT6                   29685 non-null  int64 \n 18  PAY_AMT1                    29685 non-null  int64 \n 19  PAY_AMT2                    29685 non-null  int64 \n 20  PAY_AMT3                    29685 non-null  int64 \n 21  PAY_AMT4                    29685 non-null  int64 \n 22  PAY_AMT5                    29685 non-null  int64 \n 23  PAY_AMT6                    29685 non-null  int64 \n 24  default payment next month  29685 non-null  int64 \ndtypes: int64(23), object(2)\nmemory usage: 7.1+ MB\n"
     ]
    }
   ],
   "source": [
    "# checking the columns of the data\n",
    "df_cleaned.info()"
   ]
  },
  {
   "cell_type": "code",
   "execution_count": 38,
   "metadata": {},
   "outputs": [
    {
     "output_type": "execute_result",
     "data": {
      "text/plain": [
       "0                13087\n",
       "-1                5047\n",
       "1                 3261\n",
       "Not available     3021\n",
       "-2                2476\n",
       "2                 2378\n",
       "3                  292\n",
       "4                   63\n",
       "5                   23\n",
       "8                   17\n",
       "6                   11\n",
       "7                    9\n",
       "Name: PAY_1, dtype: int64"
      ]
     },
     "metadata": {},
     "execution_count": 38
    }
   ],
   "source": [
    "df_cleaned['PAY_1'].value_counts()"
   ]
  },
  {
   "cell_type": "code",
   "execution_count": 40,
   "metadata": {},
   "outputs": [],
   "source": [
    "# removing the rows which have values not available\n",
    "df_cleaned = df_cleaned.loc[df_cleaned['PAY_1'] != 'Not available']"
   ]
  },
  {
   "cell_type": "code",
   "execution_count": 41,
   "metadata": {},
   "outputs": [
    {
     "output_type": "execute_result",
     "data": {
      "text/plain": [
       "(26664, 25)"
      ]
     },
     "metadata": {},
     "execution_count": 41
    }
   ],
   "source": [
    "df_cleaned.shape"
   ]
  },
  {
   "cell_type": "code",
   "execution_count": 42,
   "metadata": {},
   "outputs": [
    {
     "output_type": "execute_result",
     "data": {
      "text/plain": [
       " 0    13087\n",
       "-1     5047\n",
       " 1     3261\n",
       "-2     2476\n",
       " 2     2378\n",
       " 3      292\n",
       " 4       63\n",
       " 5       23\n",
       " 8       17\n",
       " 6       11\n",
       " 7        9\n",
       "Name: PAY_1, dtype: int64"
      ]
     },
     "metadata": {},
     "execution_count": 42
    }
   ],
   "source": [
    "df_cleaned['PAY_1'].value_counts()"
   ]
  },
  {
   "cell_type": "code",
   "execution_count": 43,
   "metadata": {},
   "outputs": [],
   "source": [
    "# convert the column to integer\n",
    "df_cleaned['PAY_1'] = df_cleaned['PAY_1'].astype('int64')"
   ]
  },
  {
   "cell_type": "code",
   "execution_count": 44,
   "metadata": {},
   "outputs": [
    {
     "output_type": "stream",
     "name": "stdout",
     "text": [
      "<class 'pandas.core.frame.DataFrame'>\nInt64Index: 26664 entries, 0 to 29999\nData columns (total 25 columns):\n #   Column                      Non-Null Count  Dtype \n---  ------                      --------------  ----- \n 0   ID                          26664 non-null  object\n 1   LIMIT_BAL                   26664 non-null  int64 \n 2   SEX                         26664 non-null  int64 \n 3   EDUCATION                   26664 non-null  int64 \n 4   MARRIAGE                    26664 non-null  int64 \n 5   AGE                         26664 non-null  int64 \n 6   PAY_1                       26664 non-null  int64 \n 7   PAY_2                       26664 non-null  int64 \n 8   PAY_3                       26664 non-null  int64 \n 9   PAY_4                       26664 non-null  int64 \n 10  PAY_5                       26664 non-null  int64 \n 11  PAY_6                       26664 non-null  int64 \n 12  BILL_AMT1                   26664 non-null  int64 \n 13  BILL_AMT2                   26664 non-null  int64 \n 14  BILL_AMT3                   26664 non-null  int64 \n 15  BILL_AMT4                   26664 non-null  int64 \n 16  BILL_AMT5                   26664 non-null  int64 \n 17  BILL_AMT6                   26664 non-null  int64 \n 18  PAY_AMT1                    26664 non-null  int64 \n 19  PAY_AMT2                    26664 non-null  int64 \n 20  PAY_AMT3                    26664 non-null  int64 \n 21  PAY_AMT4                    26664 non-null  int64 \n 22  PAY_AMT5                    26664 non-null  int64 \n 23  PAY_AMT6                    26664 non-null  int64 \n 24  default payment next month  26664 non-null  int64 \ndtypes: int64(24), object(1)\nmemory usage: 6.5+ MB\n"
     ]
    }
   ],
   "source": [
    "df_cleaned.info()"
   ]
  },
  {
   "cell_type": "code",
   "execution_count": null,
   "metadata": {},
   "outputs": [],
   "source": []
  }
 ]
}